{
 "cells": [
  {
   "cell_type": "markdown",
   "id": "2650cf28",
   "metadata": {},
   "source": [
    "# <div align=\"center\">ADS 501 Module 2: Conditional Statements Assignment"
   ]
  },
  {
   "cell_type": "markdown",
   "id": "951009ea",
   "metadata": {},
   "source": [
    "##  <font color='blue'>Part 1: Introduction to Conditional Statements</font>"
   ]
  },
  {
   "cell_type": "markdown",
   "id": "2bda660d",
   "metadata": {},
   "source": [
    "### 1.What are conditional statements in Python and what are the different types?"
   ]
  },
  {
   "cell_type": "markdown",
   "id": "da8027a8",
   "metadata": {},
   "source": [
    "###### Type your answer here."
   ]
  },
  {
   "cell_type": "markdown",
   "id": "8291cb7e",
   "metadata": {},
   "source": [
    "### 2. Let x = 8. Use an  <font color='blue'>'if'</font> statement to test whether x is less than 10. If conditions are met, print \"x is less than 10\"."
   ]
  },
  {
   "cell_type": "markdown",
   "id": "e6e7538c",
   "metadata": {},
   "source": [
    "### 3. Let x = 16. Use an  <font color='blue'>'if'</font> and <font color='blue'>'elif'</font> statement to print messages according to the following conditions:\n",
    "\n",
    "    1. If the value of 'x' is greater than 20, print \"x is greater than 20\".\n",
    "    2. If the value of 'x' is greater than 10 but less than 20, print \"x is greater than 10 but less than or equal to 20\""
   ]
  },
  {
   "cell_type": "markdown",
   "id": "57e7884b",
   "metadata": {},
   "source": [
    "### 4. Let x = 6 and y = 3. Use a <font color='blue'>'nested conditional statement'</font> statement to print messages according to the following conditions:\n",
    "\n",
    "1. If the value of 'x' and 'y' and greater than 5, print \"x and y are both greater than 5\".\n",
    "2. If 'x' is greater than 5 but 'y' is not greater than 5, print \"only x is greater than 5\"\n",
    "3. If 'x' is not greater than 5, print \"x is not greater than 5\"."
   ]
  },
  {
   "cell_type": "markdown",
   "id": "dfe257dd",
   "metadata": {},
   "source": [
    "##  <font color='blue'>Part 2: Data Cleaning with Conditional Statements</font>"
   ]
  },
  {
   "cell_type": "markdown",
   "id": "866ae763",
   "metadata": {},
   "source": [
    "### In Part 2 of this assignment you peform data cleaning techniques using conditional statements on a global inequality in education dataset. "
   ]
  },
  {
   "cell_type": "markdown",
   "id": "50a12eae",
   "metadata": {},
   "source": [
    "### Inequality in Education ADS 501 Dataset Metadata\n",
    "\n",
    "#### Dataset Glossary (Column-wise)\n",
    "###### •\tISO3 - ISO3 for the Country/Territory\n",
    "###### •\tCountry - Name of the Country/Territory\n",
    "###### •\tHuman Development Groups - Human Development Groups\n",
    "###### •\tHDI Rank (2021) - Human Development Index Rank for 2021\n",
    "###### •\tInequality in Education (2021) - Inequality in Education for 2021\n"
   ]
  },
  {
   "cell_type": "code",
   "execution_count": null,
   "id": "cf3533fd",
   "metadata": {},
   "outputs": [],
   "source": [
    "import pandas as pd"
   ]
  },
  {
   "cell_type": "code",
   "execution_count": null,
   "id": "8e213b79",
   "metadata": {},
   "outputs": [],
   "source": [
    "#read in csv file\n",
    "data = pd.read_csv('...\\\\Inequality_In_Education_ADS501.csv')"
   ]
  },
  {
   "cell_type": "code",
   "execution_count": null,
   "id": "4a88f238",
   "metadata": {},
   "outputs": [],
   "source": [
    "data.head()"
   ]
  },
  {
   "cell_type": "code",
   "execution_count": null,
   "id": "ad7297ba",
   "metadata": {},
   "outputs": [],
   "source": [
    "data.describe()"
   ]
  },
  {
   "cell_type": "code",
   "execution_count": null,
   "id": "7912a645",
   "metadata": {},
   "outputs": [],
   "source": [
    "# Count missing values per column\n",
    "missing_values = data.isnull().sum()\n",
    "\n",
    "print('Missing Values Per Column')\n",
    "print(missing_values)"
   ]
  },
  {
   "cell_type": "markdown",
   "id": "53e0e63e",
   "metadata": {},
   "source": [
    "### 1. Note how there are 19 missing values in the 'Inequality in Education (2021) column.  Replace the missing values with the column mean using a conditional statement."
   ]
  },
  {
   "cell_type": "code",
   "execution_count": null,
   "id": "74d471f4",
   "metadata": {},
   "outputs": [],
   "source": [
    "# Replace null values in the column 'Inequality in Education (2021)'' with column mean\n",
    "\n",
    "\n",
    "# Question 1- Insert Conditional Statement\n",
    "\n",
    "    \n",
    "#Print DF \n",
    "print('DF After Filling Missing Values')\n",
    "print(data)"
   ]
  },
  {
   "cell_type": "code",
   "execution_count": null,
   "id": "673fc855",
   "metadata": {},
   "outputs": [],
   "source": [
    "# Double check 'Inequality in Education (2021)' no longer has missing values\n",
    "missing_values = data.isnull().sum()\n",
    "\n",
    "print('Missing Values Per Column after Mean Imputation')\n",
    "print(missing_values)"
   ]
  },
  {
   "cell_type": "markdown",
   "id": "4e11bb65",
   "metadata": {},
   "source": [
    "###  Note that the 'Level' column has 195 missing values (NaN). \n",
    "\n",
    "### 2. Check the new column mean for 'Inequality in Education'. \n",
    "\n"
   ]
  },
  {
   "cell_type": "code",
   "execution_count": null,
   "id": "42865baa",
   "metadata": {},
   "outputs": [],
   "source": [
    "# Question 2 - calculate new mean after imputation \n"
   ]
  },
  {
   "cell_type": "markdown",
   "id": "370dc946",
   "metadata": {},
   "source": [
    "###  3. Input either \"red\" or \"green\" in the 'Level' column depending on the values in the 'Inequality in Education      (2021) column. If the value in the 'Inequality in Education (2021) column is below the column mean, assign \"red\". For all other values, assign \"green\"."
   ]
  },
  {
   "cell_type": "code",
   "execution_count": null,
   "id": "ff71eddc",
   "metadata": {},
   "outputs": [],
   "source": [
    "# New mean value\n",
    "\n",
    "\n",
    "# Question 3:\n",
    "#Conditionally assign 'red' or 'green' to the 'Level' column based on the values in 'Inequality in Education (2021)\n",
    "\n",
    "\n",
    "\n",
    "# Print updated DataFrame\n",
    "print(\"\\nUpdated DataFrame:\")\n",
    "print(data)"
   ]
  },
  {
   "cell_type": "markdown",
   "id": "dbe76891",
   "metadata": {},
   "source": [
    "### 3. Double check 'Level' to ensure it no longer has any missing values."
   ]
  },
  {
   "cell_type": "code",
   "execution_count": null,
   "id": "82d99e3a",
   "metadata": {},
   "outputs": [],
   "source": [
    "# Count missing values per column\n",
    "missing_values = data.isnull().sum()\n",
    "\n",
    "print('Missing Values After Data Cleaning')\n",
    "print(missing_values)"
   ]
  }
 ],
 "metadata": {
  "kernelspec": {
   "display_name": "Python 3 (ipykernel)",
   "language": "python",
   "name": "python3"
  },
  "language_info": {
   "codemirror_mode": {
    "name": "ipython",
    "version": 3
   },
   "file_extension": ".py",
   "mimetype": "text/x-python",
   "name": "python",
   "nbconvert_exporter": "python",
   "pygments_lexer": "ipython3",
   "version": "3.11.4"
  }
 },
 "nbformat": 4,
 "nbformat_minor": 5
}
